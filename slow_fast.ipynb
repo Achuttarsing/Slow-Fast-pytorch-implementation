{
  "nbformat": 4,
  "nbformat_minor": 0,
  "metadata": {
    "colab": {
      "name": "slow-fast.ipynb",
      "provenance": [],
      "collapsed_sections": [],
      "toc_visible": true
    },
    "kernelspec": {
      "name": "python3",
      "display_name": "Python 3"
    },
    "accelerator": "GPU"
  },
  "cells": [
    {
      "cell_type": "markdown",
      "metadata": {
        "id": "4AfjbmHBiIPx",
        "colab_type": "text"
      },
      "source": [
        "## Create a conda environment"
      ]
    },
    {
      "cell_type": "code",
      "metadata": {
        "id": "U1XDUJP9GMDQ",
        "colab_type": "code",
        "colab": {}
      },
      "source": [
        "!wget https://repo.anaconda.com/archive/Anaconda3-5.2.0-Linux-x86_64.sh && bash Anaconda3-5.2.0-Linux-x86_64.sh -bfp /usr/local"
      ],
      "execution_count": null,
      "outputs": []
    },
    {
      "cell_type": "markdown",
      "metadata": {
        "id": "wnbFThf_iZeg",
        "colab_type": "text"
      },
      "source": [
        "## Install dependencies"
      ]
    },
    {
      "cell_type": "code",
      "metadata": {
        "id": "1dKfMmaIIG_D",
        "colab_type": "code",
        "colab": {}
      },
      "source": [
        "!conda install pytorch==1.0.0 torchvision==0.2.1 cuda100 -c pytorch\n",
        "!pip install opencv-python==3.4.5.20\n",
        "!pip install -q youtube-dl\n",
        "!pip install ffmpeg\n",
        "!pip install gdown"
      ],
      "execution_count": null,
      "outputs": []
    },
    {
      "cell_type": "markdown",
      "metadata": {
        "id": "xW0X9UVeilNY",
        "colab_type": "text"
      },
      "source": [
        "## Clone the github repo"
      ]
    },
    {
      "cell_type": "code",
      "metadata": {
        "id": "1s2P0Z8qJyV1",
        "colab_type": "code",
        "colab": {
          "base_uri": "https://localhost:8080/",
          "height": 149
        },
        "outputId": "03234377-908c-4919-b8f9-ddfae544dbd8"
      },
      "source": [
        "!git clone https://github.com/vaib-saxena/Slow-Fast-pytorch-implementation.git"
      ],
      "execution_count": 5,
      "outputs": [
        {
          "output_type": "stream",
          "text": [
            "Cloning into 'Slow-Fast-pytorch-implementation'...\n",
            "remote: Enumerating objects: 8, done.\u001b[K\n",
            "remote: Counting objects:  12% (1/8)\u001b[K\rremote: Counting objects:  25% (2/8)\u001b[K\rremote: Counting objects:  37% (3/8)\u001b[K\rremote: Counting objects:  50% (4/8)\u001b[K\rremote: Counting objects:  62% (5/8)\u001b[K\rremote: Counting objects:  75% (6/8)\u001b[K\rremote: Counting objects:  87% (7/8)\u001b[K\rremote: Counting objects: 100% (8/8)\u001b[K\rremote: Counting objects: 100% (8/8), done.\u001b[K\n",
            "remote: Compressing objects: 100% (6/6), done.\u001b[K\n",
            "remote: Total 253 (delta 2), reused 5 (delta 2), pack-reused 245\u001b[K\n",
            "Receiving objects: 100% (253/253), 65.03 MiB | 11.65 MiB/s, done.\n",
            "Resolving deltas: 100% (44/44), done.\n"
          ],
          "name": "stdout"
        }
      ]
    },
    {
      "cell_type": "code",
      "metadata": {
        "id": "yC7v1p3sJ4y2",
        "colab_type": "code",
        "colab": {
          "base_uri": "https://localhost:8080/",
          "height": 36
        },
        "outputId": "8f337b71-323e-4a28-8ad5-751d24d86c85"
      },
      "source": [
        "%cd /content/Slow-Fast-pytorch-implementation"
      ],
      "execution_count": 6,
      "outputs": [
        {
          "output_type": "stream",
          "text": [
            "/content/Slow-Fast-pytorch-implementation\n"
          ],
          "name": "stdout"
        }
      ]
    },
    {
      "cell_type": "markdown",
      "metadata": {
        "id": "uRUv_nmhjsDo",
        "colab_type": "text"
      },
      "source": [
        "## Download pretrained weights"
      ]
    },
    {
      "cell_type": "code",
      "metadata": {
        "id": "zD5qtd2skame",
        "colab_type": "code",
        "colab": {}
      },
      "source": [
        "import os\n",
        "from os.path import exists, join, basename\n",
        "project_name = \"/content/Slow-Fast-pytorch-implementation\"\n",
        "\n",
        "yolo_pretrained_weight_dir = project_name\n",
        "if not exists(join(yolo_pretrained_weight_dir, 'yolov3.weights')):\n",
        "  file_id = '1zAh58ZEbtOmt8tvqEbh2p7jCdt1Q7xbK'\n",
        "  !cd {yolo_pretrained_weight_dir} && gdown \"https://drive.google.com/uc?id={file_id}\"\n",
        "    \n",
        "deepsort_pretrained_weight_dir = join(project_name, 'deep/checkpoint')\n",
        "if not exists(join(deepsort_pretrained_weight_dir, 'ckpt.t7')):\n",
        "  file_id = '1_qwTWdzT9dWNudpusgKavj_4elGgbkUN'\n",
        "  !cd {deepsort_pretrained_weight_dir} && curl -Lb ./cookie \"https://drive.google.com/uc?export=download&id={file_id}\" -o ckpt.t7\n",
        "\n",
        "slowfast_pretrained_weight_dir = project_name\n",
        "if not exists(join(slowfast_pretrained_weight_dir, 'slowfast_weight.pth')):\n",
        "  file_id = '1wteH0LxrGV9_Z1PO6YC-2m9Qte9fMGao'\n",
        "  !cd {slowfast_pretrained_weight_dir} && gdown \"https://drive.google.com/uc?id={file_id}\""
      ],
      "execution_count": null,
      "outputs": []
    },
    {
      "cell_type": "markdown",
      "metadata": {
        "id": "lPdw70V_jB4Q",
        "colab_type": "text"
      },
      "source": [
        "## Build the extension"
      ]
    },
    {
      "cell_type": "code",
      "metadata": {
        "id": "PExBLTZuItan",
        "colab_type": "code",
        "colab": {}
      },
      "source": [
        "!python /content/Slow-Fast-pytorch-implementation/support/setup.py build develop"
      ],
      "execution_count": null,
      "outputs": []
    },
    {
      "cell_type": "code",
      "metadata": {
        "id": "-NE0RdUzJQmk",
        "colab_type": "code",
        "colab": {
          "base_uri": "https://localhost:8080/",
          "height": 36
        },
        "outputId": "c2416c75-b43e-4a05-e047-707f3bc10e7c"
      },
      "source": [
        "%cd /content/Slow-Fast-pytorch-implementation"
      ],
      "execution_count": 3,
      "outputs": [
        {
          "output_type": "stream",
          "text": [
            "/content/Slow-Fast-pytorch-implementation\n"
          ],
          "name": "stdout"
        }
      ]
    },
    {
      "cell_type": "markdown",
      "metadata": {
        "id": "yXv4BihpvHDF",
        "colab_type": "text"
      },
      "source": [
        "## Downloading the video from drive"
      ]
    },
    {
      "cell_type": "code",
      "metadata": {
        "id": "JCdaeDk9vFAN",
        "colab_type": "code",
        "colab": {}
      },
      "source": [
        "!gdown https://drive.google.com/uc?id=1CgjWcFfqt_m4lUdNshd70EVOEAtfle0j\n",
        "!ffmpeg -ss 00:00:00.00 -i /content/Slow-Fast-pytorch-implementation/final_low_bitrate.mp4 -t 00:00:10.00 -c copy new.mp4"
      ],
      "execution_count": null,
      "outputs": []
    },
    {
      "cell_type": "markdown",
      "metadata": {
        "id": "UGTbTUBzTxSp",
        "colab_type": "text"
      },
      "source": [
        "## Run the code on the video, change reso(resolution) values as per the need, higher the resolution, higher the accuracy but it compromises with speed. Furthermore, the value of confidence can be changed(0 to 1) it refers to the algorithms confidence for predictions."
      ]
    },
    {
      "cell_type": "code",
      "metadata": {
        "id": "3V99jJ4_QOzY",
        "colab_type": "code",
        "colab": {}
      },
      "source": [
        "!python video_demo.py"
      ],
      "execution_count": null,
      "outputs": []
    },
    {
      "cell_type": "markdown",
      "metadata": {
        "id": "gCPokJO27l6S",
        "colab_type": "text"
      },
      "source": [
        "## Creating the output as video in outputs folder(download it to view results)"
      ]
    },
    {
      "cell_type": "code",
      "metadata": {
        "id": "Bf27YJbwnVh-",
        "colab_type": "code",
        "colab": {}
      },
      "source": [
        "import cv2\n",
        "import numpy as np\n",
        "import glob\n",
        "\n",
        "path = '/content/Slow-Fast-pytorch-implementation/outputs/frames/'\n",
        "\n",
        "img_array = []\n",
        "for count in range(1000):\n",
        "  filename = '/content/Slow-Fast-pytorch-implementation/outputs/frames/' + str(count) + '.jpg'\n",
        "  img = cv2.imread(filename)\n",
        "  height, width, layers = img.shape\n",
        "  size = (width,height)\n",
        "  img_array.append(img)\n",
        "\n",
        "#set your own frame rate\n",
        "frame = 30\n",
        "out = cv2.VideoWriter('/content/Slow-Fast-pytorch-implementation/outputs/output.mp4',cv2.VideoWriter_fourcc(*'DIVX'), frame, size)\n",
        "\n",
        "for i in range(len(img_array)):\n",
        "    out.write(img_array[i])\n",
        "out.release()"
      ],
      "execution_count": 1,
      "outputs": []
    },
    {
      "cell_type": "markdown",
      "metadata": {
        "id": "8LPOI85-PSZ-",
        "colab_type": "text"
      },
      "source": [
        "## Display video"
      ]
    },
    {
      "cell_type": "code",
      "metadata": {
        "id": "oWadJSQ3BNBS",
        "colab_type": "code",
        "colab": {}
      },
      "source": [
        "def show_local_mp4_video(file_name, width=640, height=480):\n",
        "  import io\n",
        "  import base64\n",
        "  from IPython.display import HTML\n",
        "  video_encoded = base64.b64encode(io.open(file_name, 'rb').read())\n",
        "  return HTML(data='''<video width=\"{0}\" height=\"{1}\" alt=\"test\" controls>\n",
        "                        <source src=\"data:video/mp4;base64,{2}\" type=\"video/mp4\" />\n",
        "                      </video>'''.format(width, height, video_encoded.decode('ascii')))\n",
        "\n",
        "show_local_mp4_video('/content/Slow-Fast-pytorch-implementation/outputs/output.mp4', width=960, height=480)"
      ],
      "execution_count": 46,
      "outputs": []
    },
    {
      "cell_type": "code",
      "metadata": {
        "id": "62TY6W5WLhVs",
        "colab_type": "code",
        "colab": {}
      },
      "source": [
        ""
      ],
      "execution_count": null,
      "outputs": []
    }
  ]
}
