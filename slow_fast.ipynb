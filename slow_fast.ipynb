{
  "nbformat": 4,
  "nbformat_minor": 0,
  "metadata": {
    "colab": {
      "name": "slow-fast.ipynb",
      "provenance": [],
      "collapsed_sections": [],
      "mount_file_id": "1uSg-kflqx4fLcOt3dC8BpibXdo4iP95J",
      "authorship_tag": "ABX9TyOUlKM8SjW2/LDi9xuu52IM",
      "include_colab_link": true
    },
    "kernelspec": {
      "name": "python3",
      "display_name": "Python 3"
    },
    "accelerator": "GPU"
  },
  "cells": [
    {
      "cell_type": "markdown",
      "metadata": {
        "id": "view-in-github",
        "colab_type": "text"
      },
      "source": [
        "<a href=\"https://colab.research.google.com/github/vaib-saxena/Slow-Fast-pytorch-implementation/blob/master/slow_fast.ipynb\" target=\"_parent\"><img src=\"https://colab.research.google.com/assets/colab-badge.svg\" alt=\"Open In Colab\"/></a>"
      ]
    },
    {
      "cell_type": "markdown",
      "metadata": {
        "id": "4AfjbmHBiIPx",
        "colab_type": "text"
      },
      "source": [
        "## Create a conda environment"
      ]
    },
    {
      "cell_type": "code",
      "metadata": {
        "id": "U1XDUJP9GMDQ",
        "colab_type": "code",
        "colab": {}
      },
      "source": [
        "!wget https://repo.anaconda.com/archive/Anaconda3-5.2.0-Linux-x86_64.sh && bash Anaconda3-5.2.0-Linux-x86_64.sh -bfp /usr/local"
      ],
      "execution_count": 0,
      "outputs": []
    },
    {
      "cell_type": "markdown",
      "metadata": {
        "id": "wnbFThf_iZeg",
        "colab_type": "text"
      },
      "source": [
        "## Install dependencies"
      ]
    },
    {
      "cell_type": "code",
      "metadata": {
        "id": "1dKfMmaIIG_D",
        "colab_type": "code",
        "colab": {}
      },
      "source": [
        "!conda install pytorch==1.0.0 torchvision==0.2.1 cuda100 -c pytorch\n",
        "!pip install opencv-python==3.4.5.20\n",
        "!pip install -q youtube-dl\n",
        "!pip install ffmpeg"
      ],
      "execution_count": 0,
      "outputs": []
    },
    {
      "cell_type": "markdown",
      "metadata": {
        "id": "xW0X9UVeilNY",
        "colab_type": "text"
      },
      "source": [
        "## Clone the github repo"
      ]
    },
    {
      "cell_type": "code",
      "metadata": {
        "id": "1s2P0Z8qJyV1",
        "colab_type": "code",
        "colab": {}
      },
      "source": [
        "!git clone https://github.com/vaib-saxena/Slow-Fast-pytorch-implementation.git"
      ],
      "execution_count": 0,
      "outputs": []
    },
    {
      "cell_type": "code",
      "metadata": {
        "id": "yC7v1p3sJ4y2",
        "colab_type": "code",
        "colab": {}
      },
      "source": [
        "%cd /content/Slow-Fast-pytorch-implementation"
      ],
      "execution_count": 0,
      "outputs": []
    },
    {
      "cell_type": "markdown",
      "metadata": {
        "id": "uRUv_nmhjsDo",
        "colab_type": "text"
      },
      "source": [
        "## Download pretrained weights"
      ]
    },
    {
      "cell_type": "code",
      "metadata": {
        "id": "zD5qtd2skame",
        "colab_type": "code",
        "colab": {}
      },
      "source": [
        "import os\n",
        "from os.path import exists, join, basename\n",
        "project_name = \"/content/Slow-Fast-pytorch-implementation\"\n",
        "\n",
        "yolo_pretrained_weight_dir = project_name\n",
        "if not exists(join(yolo_pretrained_weight_dir, 'yolov3.weights')):\n",
        "  !cd {yolo_pretrained_weight_dir} && wget -q https://pjreddie.com/media/files/yolov3.weights\n",
        "    \n",
        "deepsort_pretrained_weight_dir = join(project_name, 'deep/checkpoint')\n",
        "if not exists(join(deepsort_pretrained_weight_dir, 'ckpt.t7')):\n",
        "  file_id = '1_qwTWdzT9dWNudpusgKavj_4elGgbkUN'\n",
        "  !cd {deepsort_pretrained_weight_dir} && curl -Lb ./cookie \"https://drive.google.com/uc?export=download&id={file_id}\" -o ckpt.t7\n",
        "\n",
        "slowfast_pretrained_weight_dir = project_name\n",
        "if not exists(join(slowfast_pretrained_weight_dir, 'slowfast_weight.pth')):\n",
        "  !cd {slowfast_pretrained_weight_dir} && curl https://uc131c6bc33bfb9f2b461fa93de9.dl.dropboxusercontent.com/cd/0/get/A2VLt5eNxIulWoLD2eHei2Cd48jYj4UK3JbT_YDyv-zJXeKl4Eylo-vb5KpPmXPyBqNUwhoesK_qNzshyj9xzEhIOVmKLP7_Va9hEh8Fh_oX5Zoq5F4JjvlAg8n9M4pgrEM/file?dl=1 -o slowfast_weight.pth"
      ],
      "execution_count": 0,
      "outputs": []
    },
    {
      "cell_type": "markdown",
      "metadata": {
        "id": "lPdw70V_jB4Q",
        "colab_type": "text"
      },
      "source": [
        "## Build the extension"
      ]
    },
    {
      "cell_type": "code",
      "metadata": {
        "id": "PExBLTZuItan",
        "colab_type": "code",
        "colab": {}
      },
      "source": [
        "!python /content/Slow-Fast-pytorch-implementation/support/setup.py build develop"
      ],
      "execution_count": 0,
      "outputs": []
    },
    {
      "cell_type": "code",
      "metadata": {
        "id": "-NE0RdUzJQmk",
        "colab_type": "code",
        "colab": {}
      },
      "source": [
        "%cd /content/Slow-Fast-pytorch-implementation"
      ],
      "execution_count": 0,
      "outputs": []
    },
    {
      "cell_type": "markdown",
      "metadata": {
        "id": "yXv4BihpvHDF",
        "colab_type": "text"
      },
      "source": [
        "## Downloading a sample youtube video"
      ]
    },
    {
      "cell_type": "code",
      "metadata": {
        "id": "JCdaeDk9vFAN",
        "colab_type": "code",
        "colab": {}
      },
      "source": [
        "from IPython.display import YouTubeVideo\n",
        "#put your youtube id below\n",
        "YOUTUBE_ID = 'Ftexl9o4QX8'\n",
        "YouTubeVideo(YOUTUBE_ID)\n",
        "!rm -rf youtube.mp4\n",
        "# download the youtube with the given ID\n",
        "!youtube-dl -f 'bestvideo[ext=mp4]' --output \"youtube.%(ext)s\" https://www.youtube.com/watch?v=$YOUTUBE_ID\n",
        "# cut the first 10 seconds or more depending on your choice\n",
        "!ffmpeg -ss 00:00:01.00 -i youtube.mp4 -t 00:00:15.00 -c copy new.mp4"
      ],
      "execution_count": 0,
      "outputs": []
    },
    {
      "cell_type": "markdown",
      "metadata": {
        "id": "UGTbTUBzTxSp",
        "colab_type": "text"
      },
      "source": [
        "## Run the code on the video(go get a coffee, will take time :P)"
      ]
    },
    {
      "cell_type": "code",
      "metadata": {
        "id": "3V99jJ4_QOzY",
        "colab_type": "code",
        "colab": {}
      },
      "source": [
        "!python video_demo.py"
      ],
      "execution_count": 0,
      "outputs": []
    },
    {
      "cell_type": "markdown",
      "metadata": {
        "id": "gCPokJO27l6S",
        "colab_type": "text"
      },
      "source": [
        "## Creating the output as video in outputs folder(download it to view results)"
      ]
    },
    {
      "cell_type": "code",
      "metadata": {
        "id": "Bf27YJbwnVh-",
        "colab_type": "code",
        "colab": {}
      },
      "source": [
        "import cv2\n",
        "import numpy as np\n",
        "import glob\n",
        "\n",
        "path = '/content/Slow-Fast-pytorch-implementation/outputs/frames/'\n",
        "\n",
        "img_array = []\n",
        "for count in range(len(os.listdir(path))):\n",
        "  filename = '/content/Slow-Fast-pytorch-implementation/outputs/frames/' + str(count) + '.jpg'\n",
        "  img = cv2.imread(filename)\n",
        "  height, width, layers = img.shape\n",
        "  size = (width,height)\n",
        "  img_array.append(img)\n",
        "\n",
        "#set your own frame rate\n",
        "frame = 15\n",
        "out = cv2.VideoWriter('/content/Slow-Fast-pytorch-implementation/outputs/output.mp4',cv2.VideoWriter_fourcc(*'MJPG'), frame, size)\n",
        "\n",
        "for i in range(len(img_array)):\n",
        "    out.write(img_array[i])\n",
        "out.release()"
      ],
      "execution_count": 0,
      "outputs": []
    },
    {
      "cell_type": "markdown",
      "metadata": {
        "id": "8LPOI85-PSZ-",
        "colab_type": "text"
      },
      "source": [
        "## Display video"
      ]
    },
    {
      "cell_type": "code",
      "metadata": {
        "id": "oWadJSQ3BNBS",
        "colab_type": "code",
        "colab": {}
      },
      "source": [
        "def show_local_mp4_video(file_name, width=640, height=480):\n",
        "  import io\n",
        "  import base64\n",
        "  from IPython.display import HTML\n",
        "  video_encoded = base64.b64encode(io.open(file_name, 'rb').read())\n",
        "  return HTML(data='''<video width=\"{0}\" height=\"{1}\" alt=\"test\" controls>\n",
        "                        <source src=\"data:video/mp4;base64,{2}\" type=\"video/mp4\" />\n",
        "                      </video>'''.format(width, height, video_encoded.decode('ascii')))\n",
        "\n",
        "show_local_mp4_video('/content/Slow-Fast-pytorch-implementation/outputs/output.mp4', width=960, height=480)"
      ],
      "execution_count": 0,
      "outputs": []
    },
    {
      "cell_type": "markdown",
      "metadata": {
        "id": "FVnmh2p_TcJ-",
        "colab_type": "text"
      },
      "source": [
        ""
      ]
    }
  ]
}